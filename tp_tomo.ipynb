{
 "cells": [
  {
   "cell_type": "markdown",
   "metadata": {},
   "source": [
    "# Objectifs\n",
    "Implémenter la rétroprojection filtrée 2D en géométrie parallèle. L'algorithme consiste à rétroprojeter:\n",
    "$$\n",
    "f(\\vec{x})=\\int_0^\\pi p^*_\\theta(\\vec{x}\\cdot\\vec{u_\\theta})\\mathrm{d}\\theta\n",
    "$$\n",
    "les projections filtrées avec un filtre rampe:\n",
    "$$\n",
    "p^*_\\theta(s) = \\int_{-\\infty}^\\infty \\lvert \\rho \\rvert \\hat p_\\theta(\\rho)e^{2\\pi i\\rho s}\\mathrm{d}\\rho\n",
    "$$\n",
    "avec $\\vec{u_\\theta}=(\\cos \\theta,\\sin\\theta)$ l'orientation du détecteur et $\\hat p_\\theta$ la transformée de Fourier 1D de $p_\\theta$.\n",
    "\n",
    "Le dessin ci-dessous ilustre les notations utilisées dans ce notebook:\n",
    "\n",
    "![parallel_fig.png](parallel_fig.png)\n",
    "\n",
    "Dans un deuxième temps nous nous intéresserons à un algorithme de reconstruction itératif: Maximum-Likelihood Expectation-Maximization (MLEM). \n",
    "\n",
    "Enfin, il s’agira de comparer les temps de calcul et la qualité des différentes reconstructions de chacune des deux méthodes.\n",
    "\n",
    "# Données\n",
    "Nous allons travailler sur une coupe du fantôme de Shepp Logan 3D.\n",
    "Le code utilisé pour produire l'image de `réference` est donné ci-dessous:"
   ]
  },
  {
   "cell_type": "code",
   "execution_count": 1,
   "metadata": {},
   "outputs": [
    {
     "data": {
      "image/png": "[encoded data removed]",
      "text/plain": [
       "<Figure size 576x576 with 1 Axes>"
      ]
     },
     "metadata": {
      "needs_background": "light"
     },
     "output_type": "display_data"
    }
   ],
   "source": [
    "import numpy as np\n",
    "import itk\n",
    "from itk import RTK as rtk\n",
    "\n",
    "# Define the image type, we will use 3D float images in these hands-on sessions\n",
    "ImageType = itk.Image[itk.F,3]\n",
    "\n",
    "# Create an image filled with 0 in which we will draw the phantom\n",
    "srcdraw = rtk.ConstantImageSource[ImageType].New()\n",
    "srcdraw.SetConstant(0.) # Note that this is useless because 0 is the default\n",
    "srcdraw.SetSize([256,1,256])\n",
    "srcdraw.SetSpacing([1,1,1])\n",
    "srcdraw.SetOrigin([-127.5,0.,-127.5])\n",
    "\n",
    "# Draw the Shepp Logan in it\n",
    "sldraw = rtk.DrawSheppLoganFilter[ImageType, ImageType].New()\n",
    "sldraw.SetInput(srcdraw.GetOutput())\n",
    "sldraw.SetPhantomScale(128)\n",
    "sldraw.SetOriginOffset([0.,0.25,0.])\n",
    "sldraw.InPlaceOff()\n",
    "sldraw.Update()\n",
    "itk.imwrite(sldraw.GetOutput(),'ref.mha')\n",
    "reference = itk.GetArrayFromImage(sldraw.GetOutput()).squeeze()\n",
    "\n",
    "%matplotlib inline\n",
    "import matplotlib.pyplot as plt\n",
    "\n",
    "plt.figure(figsize=(8,8))\n",
    "x=np.linspace(srcdraw.GetOrigin()[0],\n",
    "               srcdraw.GetOrigin()[0]+(srcdraw.GetSize()[0]-1)*srcdraw.GetSpacing()[0],\n",
    "               num=reference.shape[1])\n",
    "y=np.linspace(srcdraw.GetOrigin()[2],\n",
    "               srcdraw.GetOrigin()[2]+(srcdraw.GetSize()[2]-1)*srcdraw.GetSpacing()[2],\n",
    "               num=reference.shape[0])\n",
    "plt.imshow(reference, clim=[1,1.05], cmap=plt.cm.gray, extent=(x[0],x[-1],y[0],y[-1]), origin='lower')\n",
    "plt.xlabel('x (mm)')\n",
    "plt.ylabel('y (mm)')\n",
    "plt.title('Reference')\n",
    "plt.show();"
   ]
  },
  {
   "cell_type": "markdown",
   "metadata": {},
   "source": [
    "et la fonction permettant de calculer les projections est la suivante:"
   ]
  },
  {
   "cell_type": "code",
   "execution_count": 2,
   "metadata": {},
   "outputs": [],
   "source": [
    "def RadonTransformSheppLogan(thetadeg):\n",
    "    geometry = rtk.ThreeDCircularProjectionGeometry.New()\n",
    "    for angle in thetadeg:\n",
    "        # The convention in the courses is opposite of that of RTK for the rotation angle.\n",
    "        # We simply use the courses convention and convert the angle to RTK's convention\n",
    "        geometry.AddProjection(1000,0,-angle)\n",
    "\n",
    "    # Create an image filled with 0 in which we will draw the phantom\n",
    "    srcproj = rtk.ConstantImageSource[ImageType].New()\n",
    "    srcproj.SetSize([reference.shape[1],1,len(thetadeg)])\n",
    "    srcproj.SetSpacing(srcdraw.GetSpacing())\n",
    "    srcproj.SetOrigin([srcdraw.GetOrigin()[0],0.,0.])\n",
    "\n",
    "    # Project the Shepp Logan in it\n",
    "    slproj = rtk.SheppLoganPhantomFilter[ImageType, ImageType].New()\n",
    "    slproj.SetInput(srcproj.GetOutput())\n",
    "    slproj.SetGeometry(geometry)\n",
    "    slproj.SetPhantomScale(128)\n",
    "    slproj.SetOriginOffset([0.,0.25,0.])\n",
    "    slproj.Update()\n",
    "    sinogram = itk.GetArrayFromImage(slproj.GetOutput()).squeeze()\n",
    "    s=np.linspace(srcproj.GetOrigin()[0],\n",
    "              srcproj.GetOrigin()[0]+(srcproj.GetSize()[0]-1)*srcproj.GetSpacing()[0],\n",
    "              num=srcproj.GetSize()[0])\n",
    "    return sinogram, s"
   ]
  },
  {
   "cell_type": "markdown",
   "metadata": {},
   "source": [
    "**Exercice:** Tracer le sinogramme en précisant $N_\\theta$, le nombre d'angles choisi dans l'intervalle $[0°,180°[$"
   ]
  },
  {
   "cell_type": "code",
   "execution_count": null,
   "metadata": {},
   "outputs": [],
   "source": []
  },
  {
   "cell_type": "markdown",
   "metadata": {},
   "source": [
    "# Rétroprojection\n",
    "On cherche maintenant à inverser la projection, i.e. à passer du domaine de Radon au domaine image.\n",
    "\n",
    "**Exercice:** Implémenter dans un premier temps la rétroprojection simple de la transformée de Radon:\n",
    "$$\n",
    "f(\\vec{x})=\\int_0^\\pi p_\\theta(\\vec{x}\\cdot\\vec{u_\\theta})\\mathrm{d}\\theta = \\int_0^\\pi p_\\theta(x cos(\\theta)+y sin(\\theta))\\mathrm{d}\\theta\n",
    "$$\n",
    "qui après discrétisation donne:\n",
    "$$\n",
    "f(x, y)=\\Delta \\theta \\sum_{k=0}^{N_\\theta-1} p_{\\theta_k}(x cos(\\theta_k) + y sin(\\theta_k))\n",
    "$$\n",
    "\n",
    "Pour l'algorithme de la rétroprojection filtrée, la meilleure solution pour implémenter l'opérateur de rétroprojection est d'utiliser un *pixel-based* rétroprojecteur:\n",
    "- Calculer les coordonnées 2D de chaque pixel de la fonction discretisée $f$. \n",
    "- Regarder où se projette chaque pixel sur chaque projection 1D $p_\\theta$.\n",
    "- Faire une interpolation linéraire des projections à ces posisitions.\n",
    "- Ajouter la valeur interpolée au pixel.\n",
    "\n",
    "![pixel-based](pixel_based_backprojection.png)\n",
    "\n",
    "Vous pouvez utiliser la fonction [numpy.meshgrid](https://docs.scipy.org/doc/numpy/reference/generated/numpy.meshgrid.html) pour obtenir une grille de coordonnées à partir des coordonnées des vecteurs $x$ et $y$ (voir leur définition dans la section Donnée). Utilisez l'option`indexing='xy'` pour être cohérent avec la `réference`. Vous pouvez utiliser [numpy.interp](https://docs.scipy.org/doc/numpy/reference/generated/numpy.interp.html) pour l'interpolation linéaire."
   ]
  },
  {
   "cell_type": "code",
   "execution_count": null,
   "metadata": {},
   "outputs": [],
   "source": []
  },
  {
   "cell_type": "markdown",
   "metadata": {},
   "source": [
    "Le code suivant réalise la rétroprojection simple en utilisant RTK."
   ]
  },
  {
   "cell_type": "code",
   "execution_count": 3,
   "metadata": {},
   "outputs": [],
   "source": [
    "def BackprojectionRTK(thetadeg):\n",
    "    geometry = rtk.ThreeDCircularProjectionGeometry.New()\n",
    "    theta = np.deg2rad(thetadeg)\n",
    "    for angle in thetadeg:\n",
    "        # The convention in the courses is opposite of that of RTK for the rotation angle.\n",
    "        # We simply use the courses convention and convert the angle to RTK's convention\n",
    "        geometry.AddProjection(1000,0,-angle)\n",
    "        \n",
    "    # Recreate projections with 3 slices to accomodate bilinear interpolation\n",
    "    srcproj = rtk.ConstantImageSource[ImageType].New()\n",
    "    srcproj.SetSize([reference.shape[1],3, len(thetadeg)])\n",
    "    srcproj.SetOrigin([srcdraw.GetOrigin()[0],-1.*srcdraw.GetSpacing()[1],0])\n",
    "    srcproj.SetSpacing(srcdraw.GetSpacing())\n",
    "    slproj = rtk.SheppLoganPhantomFilter[ImageType, ImageType].New()\n",
    "    slproj.SetInput(srcproj.GetOutput())\n",
    "    slproj.SetGeometry(geometry)\n",
    "    slproj.SetPhantomScale(128)\n",
    "    slproj.SetOriginOffset([0.,0.25,0.])\n",
    "    slproj.Update()\n",
    "\n",
    "    # Backproject\n",
    "    rtkbp = rtk.BackProjectionImageFilter[ImageType, ImageType].New()\n",
    "    rtkbp.SetInput(0,srcdraw.GetOutput())\n",
    "    rtkbp.SetInput(1,slproj.GetOutput())\n",
    "    rtkbp.SetGeometry(geometry)\n",
    "    rtkbp.Update()\n",
    "    rtkbp = itk.GetArrayFromImage(rtkbp).squeeze()\n",
    "    rtkbp *= np.abs(theta[1]-theta[0])\n",
    "    \n",
    "    return rtkbp"
   ]
  },
  {
   "cell_type": "markdown",
   "metadata": {},
   "source": [
    "**Exercice:** Valider votre rétroprojection en la comparant à celle de RTK. La méthode de rétroprojection simple est-elle satisfaisante ? Expliquer pourquoi."
   ]
  },
  {
   "cell_type": "code",
   "execution_count": null,
   "metadata": {},
   "outputs": [],
   "source": []
  },
  {
   "cell_type": "markdown",
   "metadata": {},
   "source": [
    "# Filtre Rampe\n",
    "La version analytique du filtre rampe $\\hat h(\\rho)=|\\rho|$ n'est pas utilisable dans notre cas du fait que les signaux numériques possèdent un spectre limité. Le filtre s'exprime donc par: \n",
    "$$\n",
    "\\hat h_\\mathrm{BL}(\\rho)=\\left\\{\n",
    "\\begin{array}{ll}%\n",
    "\\lvert \\rho \\rvert &\\mathrm{si}\\ \\lvert \\rho \\rvert <\\rho\\\\\n",
    "0 & \\mathrm{sinon,}\\\\\n",
    "\\end{array}\n",
    "\\right.\n",
    "$$\n",
    "où $\\rho=1/2\\Delta_s$ est la frèquence maximum respectant la condition de Nyquist-Shannon pour un signal échantillonée à $\\Delta_s$. Il existe plusieurs implémentations du filtre rampe verifiant cette condition, une des plus communes est: \n",
    "$$\n",
    "h_\\mathrm{BL}(s)=\\dfrac{1}{2\\Delta_s^2}\\dfrac{\\sin 2\\pi s/2\\Delta_s}{2\\pi s/2\\Delta_s}-\\dfrac{1}{4\\Delta_s^2}\\left(\\dfrac{\\sin\\pi s/2\\Delta_s}{\\pi s/2\\Delta_s}\\right)^2\n",
    "$$\n",
    "qui après discrétisation donne:\n",
    "$$\n",
    "h_\\mathrm{BL}(n\\Delta_s)=\n",
    "\\begin{cases}\n",
    "\\dfrac{1}{4\\Delta_s^2} &\\mathrm{si}\\ n=0,\\\\\n",
    "0 &\\mathrm{si}\\ n\\ \\mathrm{est\\ pair},\\\\\n",
    "-\\dfrac{1}{\\left(n\\pi \\Delta_s\\right)^2} &\\mathrm{si}\\ n\\ \\mathrm{est\\ impair}.\\\\\n",
    "\\end{cases}\n",
    "$$\n",
    "\n",
    "Le code suivant retourne ce filtre à la fois dans le domaine spatial et fréquentiel:"
   ]
  },
  {
   "cell_type": "code",
   "execution_count": 4,
   "metadata": {},
   "outputs": [],
   "source": [
    "def RampFilterBL(s, zeropad=2):\n",
    "    rampbl = np.zeros(s.size*zeropad)\n",
    "    ds=s[1]-s[0]\n",
    "    rampbl[s.size*zeropad//2-1]=1/(4*ds**2)\n",
    "    idxodd = np.concatenate((np.flip(-1*np.arange(1,rampbl.size//2,2)),np.arange(1,rampbl.size//2,2)))\n",
    "    rampbl[0::2]=-1/(idxodd*np.pi*ds)**2\n",
    "    rampbl*=ds\n",
    "    rampbl_fft = np.absolute(np.fft.rfft(rampbl))\n",
    "    \n",
    "    return rampbl, rampbl_fft"
   ]
  },
  {
   "cell_type": "markdown",
   "metadata": {},
   "source": [
    "**Exercice:** En utlisant la fonction précédente, implémentez la rétroprojection filtrée. Vous pouvez utiliser la fonction [numpy.fft.irfft](https://docs.scipy.org/doc/numpy/reference/generated/numpy.fft.irfft.html) pour la transformée de Fourier 1D inverse, et [numpy.fft.rfftfreq](https://docs.scipy.org/doc/numpy/reference/generated/numpy.fft.rfftfreq.html) pour récupérer l'échantillonage des fréquences dans le domaine de Fourier.\n",
    "Comparer l'image reconstruite avec la référence (vous pourrez notamment afficher un profil). Expliquer l'intérêt et l'effet du filtre rampe lors de la rétroprojection."
   ]
  },
  {
   "cell_type": "code",
   "execution_count": null,
   "metadata": {},
   "outputs": [],
   "source": []
  },
  {
   "cell_type": "markdown",
   "metadata": {},
   "source": [
    "**Exercice:** Comparer les qualités d'images reconstruites, les PSNR obtenus et le temps de reconstruction en fonction de $N_\\theta$. Pour mesurer le temps de calcul vous pouvez utiliser la fonction [time.time()](https://docs.python.org/3/library/time.html).\n",
    "\n",
    "Rappel: $\\mathrm{PSNR}= 10 \\log_{10}(\\frac{\\mathrm{MAX}^2_I}{\\mathrm{MSE}})$\n",
    "\n",
    "N'oubliez pas de normalier vos images avant de quantifier leur différence."
   ]
  },
  {
   "cell_type": "code",
   "execution_count": null,
   "metadata": {},
   "outputs": [],
   "source": []
  },
  {
   "cell_type": "markdown",
   "metadata": {},
   "source": [
    "**Exercice:** Rajouter un bruit additif Gaussien de moyenne nulle au sinogramme de départ en utilisant la fonction [np.random.normal](https://numpy.org/doc/stable/reference/random/generated/numpy.random.normal.html). Pour un $N_\\theta$ fixé, tracez l’évolution du PSNR en fonction de la variance du bruit."
   ]
  },
  {
   "cell_type": "code",
   "execution_count": null,
   "metadata": {},
   "outputs": [],
   "source": []
  },
  {
   "cell_type": "markdown",
   "metadata": {},
   "source": [
    "# Bonus (si vous avez le temps)\n",
    "Nous avons vu dans le cours que le filtre rampe favorise l'amplification des hautes fréquences et peut introduire du bruit dans l'image reconstruite. Une solution est d'appliquer un filtre passe-bas appelé fenêtre d'apodisation pour atténuer les hautes-fréquences. Le filtre de Hann est couramment utilisé à cet effet:\n",
    "$$\n",
    "\\hat w(\\sigma)=\\left\\{\n",
    "\\begin{array}{ll}%\n",
    "0.5*(1+\\cos(\\frac{\\pi \\rho}{\\rho})) &\\mathrm{si}\\ \\rho <\\rho\\\\\n",
    "0 & \\mathrm{sinon}\\\\\n",
    "\\end{array}\n",
    "\\right.\n",
    "$$\n",
    "\n",
    "**Exercice:** Ajouter le filtre de Hann à votre rétroprojection filtrée et comparer les résultats obtenue pour différentes fréquences de coupure."
   ]
  },
  {
   "cell_type": "code",
   "execution_count": null,
   "metadata": {},
   "outputs": [],
   "source": []
  },
  {
   "cell_type": "markdown",
   "metadata": {},
   "source": [
    "# MLEM\n",
    "Nous supposons que l'émission des photons suit une distribution de Poisson, alors, si $\\vec{f}$ représente le vecteur image $\\vec{f} = (f_i,..,f_n)^t$ et $\\vec{p} = (p_1,..,p_m)^t$ les projections mesurées, la fonction de vraisemblance, qui est la probabilité d'obtenir $\\vec{p}$ si l'image est $\\vec{f}$, est:\n",
    "$$\n",
    "\t\t\tP_L(\\vec{p}/\\vec{f}) = \\prod_{i=1}^m \\frac{\\sum_{j=1}^n (r_{ij}f_j)^{p_i}}{p_i!} \\exp(-\\sum_{j=1}^n r_{ij}f_j)\n",
    "$$\n",
    "où $r_{ij}$ représente la probabilité qu'un photon émis par le voxel j soit détecté par le pixel i et $\\sum_{i=1}^m r_{ij} = 1$. \n",
    "\n",
    "Afin d'estimer $\\vec{f}$ à partir de $\\vec{p}$, une approche possible est de maximiser $P_L(\\vec{p}/\\vec{f})$ ou de façon équivalente:\n",
    "$$\n",
    "\t\t\t\\max_{\\vec{f}\\ge0}L(\\vec{f})=\\sum_{i=1}^m (p_i \\ln(\\sum_{j=1}^n r_{ij}f_j) - \\sum_{j=1}^n r_{ij}f_j)\n",
    "$$\n",
    "\n",
    "L'algorithme MLEM cherche une solution qui maximise cette fonction de vraisemblance entre les projections mesurées et les projections de l'image. L'équation de mise à jour est:\n",
    "$$\n",
    "\t\t\tf^{next}_{j} = \\frac{f^{current}_{j}}{{\\sum_{i} r_{ij}}} {\\sum_{i} r_{ij}} \\frac{{p_{i}}}{{{\\sum_{j} r_{ij}}}f^{current}_{j}}\n",
    "$$\n",
    "où $\\sum_{i} r_{ij}$ représente l'opérateur de rétroprojection et $\\sum_{j} r_{ij}$ l'opérateur de projection.\n",
    "\n",
    "Une implémentation d'un opérateur de projection est donnée par la fonction suivante:"
   ]
  },
  {
   "cell_type": "code",
   "execution_count": 5,
   "metadata": {},
   "outputs": [],
   "source": [
    "def ForwardProjectionRTK(volume, thetadeg):\n",
    "    geometry = rtk.ThreeDCircularProjectionGeometry.New()\n",
    "    for angle in thetadeg:\n",
    "        # The convention in the courses is opposite of that of RTK for the rotation angle.\n",
    "        # We simply use the courses convention and convert the angle to RTK's convention\n",
    "        geometry.AddProjection(1000,0,-angle)\n",
    "    \n",
    "    # Create an image filled with 0 in which we write the projections\n",
    "    srcproj = rtk.ConstantImageSource[ImageType].New()\n",
    "    srcproj.SetSize([reference.shape[1],1,len(thetadeg)])\n",
    "    srcproj.SetSpacing(srcdraw.GetSpacing())\n",
    "    srcproj.SetOrigin([srcdraw.GetOrigin()[0],0,0.])\n",
    "    srcproj.Update()\n",
    "    \n",
    "    volume = volume[:, np.newaxis, :]\n",
    "    volume = np.append(volume, np.zeros((volume.shape[0],2,volume.shape[2])), axis=1)\n",
    "    itkVolume = itk.GetImageFromArray(volume.astype(np.float32))\n",
    "    itkVolume.SetSpacing([1,1,1])\n",
    "    itkVolume.SetOrigin([-127.5,0.,-127.5])\n",
    "\n",
    "    jfp = rtk.JosephForwardProjectionImageFilter[ImageType, ImageType].New()\n",
    "    jfp.SetInput(0, srcproj.GetOutput())\n",
    "    jfp.SetInput(1, itkVolume)\n",
    "    jfp.SetGeometry(geometry)\n",
    "    jfp.Update()\n",
    "    jfp = itk.GetArrayFromImage(jfp.GetOutput()).squeeze()\n",
    "    \n",
    "    return jfp  "
   ]
  },
  {
   "cell_type": "markdown",
   "metadata": {},
   "source": [
    "**Exercice:** En utilisant le projecteur implémenté ci-dessus et votre rétroprojecteur, créer une fonction réalisant la reconstruction par la méthode MLEM.\n",
    "\n",
    "Dans un premier temps, le nombre d'itération sera fixé."
   ]
  },
  {
   "cell_type": "code",
   "execution_count": null,
   "metadata": {},
   "outputs": [],
   "source": []
  },
  {
   "cell_type": "markdown",
   "metadata": {},
   "source": [
    "**Exercice:** Vérifier que l'algorithme MLEM maximise bien la fonction de coût en traçant sont évolution en fonction du nombre d'itérations. Tracer aussi l'évolution de l'érreur quadratique moyenne pour vérifier que le volume reconstruit se rapproche bien de la référence.\n",
    "\n",
    "En déduire un critère de convergence de l'algorithme plus pertinent qu'un nombre fixé d'itérations."
   ]
  },
  {
   "cell_type": "code",
   "execution_count": null,
   "metadata": {},
   "outputs": [],
   "source": []
  },
  {
   "cell_type": "markdown",
   "metadata": {},
   "source": [
    "# Bilan\n",
    "**Exercice:** En fixant les mêmes paramètres (bruit, taille de l’image, nombre de projections) comparer les reconstructions obtenues (PSNR, temps de calcul, perception visuelle) par les deux méthodes implémentées."
   ]
  },
  {
   "cell_type": "code",
   "execution_count": null,
   "metadata": {},
   "outputs": [],
   "source": []
  }
 ],
 "metadata": {
  "kernelspec": {
   "display_name": "Python 3",
   "language": "python",
   "name": "python3"
  },
  "language_info": {
   "codemirror_mode": {
    "name": "ipython",
    "version": 3
   },
   "file_extension": ".py",
   "mimetype": "text/x-python",
   "name": "python",
   "nbconvert_exporter": "python",
   "pygments_lexer": "ipython3",
   "version": "3.9.12"
  }
 },
 "nbformat": 4,
 "nbformat_minor": 4
}
